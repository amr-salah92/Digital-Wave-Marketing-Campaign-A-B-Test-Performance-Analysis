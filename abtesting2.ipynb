{
 "cells": [
  {
   "cell_type": "markdown",
   "metadata": {},
   "source": [
    "Import Liberaries "
   ]
  },
  {
   "cell_type": "code",
   "execution_count": 29,
   "metadata": {},
   "outputs": [
    {
     "name": "stdout",
     "output_type": "stream",
     "text": [
      "Requirement already satisfied: scipy in c:\\users\\dell2025\\appdata\\local\\packages\\pythonsoftwarefoundation.python.3.11_qbz5n2kfra8p0\\localcache\\local-packages\\python311\\site-packages (1.15.1)\n",
      "Requirement already satisfied: numpy<2.5,>=1.23.5 in c:\\users\\dell2025\\appdata\\local\\packages\\pythonsoftwarefoundation.python.3.11_qbz5n2kfra8p0\\localcache\\local-packages\\python311\\site-packages (from scipy) (2.2.2)\n",
      "Note: you may need to restart the kernel to use updated packages.\n"
     ]
    },
    {
     "name": "stderr",
     "output_type": "stream",
     "text": [
      "\n",
      "[notice] A new release of pip is available: 24.0 -> 25.0\n",
      "[notice] To update, run: C:\\Users\\DELL2025\\AppData\\Local\\Microsoft\\WindowsApps\\PythonSoftwareFoundation.Python.3.11_qbz5n2kfra8p0\\python.exe -m pip install --upgrade pip\n"
     ]
    }
   ],
   "source": [
    "%pip install scipy\n",
    "\n",
    "import numpy as np  \n",
    "import pandas as pd \n",
    "import matplotlib.pyplot as plt\n",
    "import seaborn as sns\n",
    "from scipy.stats import norm"
   ]
  },
  {
   "cell_type": "markdown",
   "metadata": {},
   "source": [
    "read the file"
   ]
  },
  {
   "cell_type": "code",
   "execution_count": 30,
   "metadata": {},
   "outputs": [],
   "source": [
    "pd_ab_testing = pd.read_csv(r'C:\\Users\\DELL2025\\Downloads\\Compressed\\marketing_AB.csv')"
   ]
  },
  {
   "cell_type": "markdown",
   "metadata": {},
   "source": [
    "EDA"
   ]
  },
  {
   "cell_type": "code",
   "execution_count": 31,
   "metadata": {},
   "outputs": [
    {
     "data": {
      "text/html": [
       "<div>\n",
       "<style scoped>\n",
       "    .dataframe tbody tr th:only-of-type {\n",
       "        vertical-align: middle;\n",
       "    }\n",
       "\n",
       "    .dataframe tbody tr th {\n",
       "        vertical-align: top;\n",
       "    }\n",
       "\n",
       "    .dataframe thead th {\n",
       "        text-align: right;\n",
       "    }\n",
       "</style>\n",
       "<table border=\"1\" class=\"dataframe\">\n",
       "  <thead>\n",
       "    <tr style=\"text-align: right;\">\n",
       "      <th></th>\n",
       "      <th>Unnamed: 0</th>\n",
       "      <th>user id</th>\n",
       "      <th>test group</th>\n",
       "      <th>converted</th>\n",
       "      <th>total ads</th>\n",
       "      <th>most ads day</th>\n",
       "      <th>most ads hour</th>\n",
       "    </tr>\n",
       "  </thead>\n",
       "  <tbody>\n",
       "    <tr>\n",
       "      <th>0</th>\n",
       "      <td>0</td>\n",
       "      <td>1069124</td>\n",
       "      <td>ad</td>\n",
       "      <td>False</td>\n",
       "      <td>130</td>\n",
       "      <td>Monday</td>\n",
       "      <td>20</td>\n",
       "    </tr>\n",
       "    <tr>\n",
       "      <th>1</th>\n",
       "      <td>1</td>\n",
       "      <td>1119715</td>\n",
       "      <td>ad</td>\n",
       "      <td>False</td>\n",
       "      <td>93</td>\n",
       "      <td>Tuesday</td>\n",
       "      <td>22</td>\n",
       "    </tr>\n",
       "    <tr>\n",
       "      <th>2</th>\n",
       "      <td>2</td>\n",
       "      <td>1144181</td>\n",
       "      <td>ad</td>\n",
       "      <td>False</td>\n",
       "      <td>21</td>\n",
       "      <td>Tuesday</td>\n",
       "      <td>18</td>\n",
       "    </tr>\n",
       "    <tr>\n",
       "      <th>3</th>\n",
       "      <td>3</td>\n",
       "      <td>1435133</td>\n",
       "      <td>ad</td>\n",
       "      <td>False</td>\n",
       "      <td>355</td>\n",
       "      <td>Tuesday</td>\n",
       "      <td>10</td>\n",
       "    </tr>\n",
       "    <tr>\n",
       "      <th>4</th>\n",
       "      <td>4</td>\n",
       "      <td>1015700</td>\n",
       "      <td>ad</td>\n",
       "      <td>False</td>\n",
       "      <td>276</td>\n",
       "      <td>Friday</td>\n",
       "      <td>14</td>\n",
       "    </tr>\n",
       "  </tbody>\n",
       "</table>\n",
       "</div>"
      ],
      "text/plain": [
       "   Unnamed: 0  user id test group  converted  total ads most ads day  \\\n",
       "0           0  1069124         ad      False        130       Monday   \n",
       "1           1  1119715         ad      False         93      Tuesday   \n",
       "2           2  1144181         ad      False         21      Tuesday   \n",
       "3           3  1435133         ad      False        355      Tuesday   \n",
       "4           4  1015700         ad      False        276       Friday   \n",
       "\n",
       "   most ads hour  \n",
       "0             20  \n",
       "1             22  \n",
       "2             18  \n",
       "3             10  \n",
       "4             14  "
      ]
     },
     "execution_count": 31,
     "metadata": {},
     "output_type": "execute_result"
    }
   ],
   "source": [
    "pd_ab_testing.head()\n"
   ]
  },
  {
   "cell_type": "code",
   "execution_count": 32,
   "metadata": {},
   "outputs": [
    {
     "data": {
      "text/plain": [
       "Unnamed: 0       0\n",
       "user id          0\n",
       "test group       0\n",
       "converted        0\n",
       "total ads        0\n",
       "most ads day     0\n",
       "most ads hour    0\n",
       "dtype: int64"
      ]
     },
     "execution_count": 32,
     "metadata": {},
     "output_type": "execute_result"
    }
   ],
   "source": [
    "pd_ab_testing.isna().sum()"
   ]
  },
  {
   "cell_type": "code",
   "execution_count": 33,
   "metadata": {},
   "outputs": [
    {
     "data": {
      "text/plain": [
       "np.int64(0)"
      ]
     },
     "execution_count": 33,
     "metadata": {},
     "output_type": "execute_result"
    }
   ],
   "source": [
    "pd_ab_testing.duplicated().sum()"
   ]
  },
  {
   "cell_type": "code",
   "execution_count": 34,
   "metadata": {},
   "outputs": [
    {
     "data": {
      "text/html": [
       "<div>\n",
       "<style scoped>\n",
       "    .dataframe tbody tr th:only-of-type {\n",
       "        vertical-align: middle;\n",
       "    }\n",
       "\n",
       "    .dataframe tbody tr th {\n",
       "        vertical-align: top;\n",
       "    }\n",
       "\n",
       "    .dataframe thead th {\n",
       "        text-align: right;\n",
       "    }\n",
       "</style>\n",
       "<table border=\"1\" class=\"dataframe\">\n",
       "  <thead>\n",
       "    <tr style=\"text-align: right;\">\n",
       "      <th></th>\n",
       "      <th>user id</th>\n",
       "      <th>test group</th>\n",
       "      <th>converted</th>\n",
       "      <th>total ads</th>\n",
       "      <th>most ads day</th>\n",
       "      <th>most ads hour</th>\n",
       "    </tr>\n",
       "  </thead>\n",
       "  <tbody>\n",
       "    <tr>\n",
       "      <th>0</th>\n",
       "      <td>1069124</td>\n",
       "      <td>ad</td>\n",
       "      <td>False</td>\n",
       "      <td>130</td>\n",
       "      <td>Monday</td>\n",
       "      <td>20</td>\n",
       "    </tr>\n",
       "    <tr>\n",
       "      <th>1</th>\n",
       "      <td>1119715</td>\n",
       "      <td>ad</td>\n",
       "      <td>False</td>\n",
       "      <td>93</td>\n",
       "      <td>Tuesday</td>\n",
       "      <td>22</td>\n",
       "    </tr>\n",
       "    <tr>\n",
       "      <th>2</th>\n",
       "      <td>1144181</td>\n",
       "      <td>ad</td>\n",
       "      <td>False</td>\n",
       "      <td>21</td>\n",
       "      <td>Tuesday</td>\n",
       "      <td>18</td>\n",
       "    </tr>\n",
       "    <tr>\n",
       "      <th>3</th>\n",
       "      <td>1435133</td>\n",
       "      <td>ad</td>\n",
       "      <td>False</td>\n",
       "      <td>355</td>\n",
       "      <td>Tuesday</td>\n",
       "      <td>10</td>\n",
       "    </tr>\n",
       "    <tr>\n",
       "      <th>4</th>\n",
       "      <td>1015700</td>\n",
       "      <td>ad</td>\n",
       "      <td>False</td>\n",
       "      <td>276</td>\n",
       "      <td>Friday</td>\n",
       "      <td>14</td>\n",
       "    </tr>\n",
       "    <tr>\n",
       "      <th>...</th>\n",
       "      <td>...</td>\n",
       "      <td>...</td>\n",
       "      <td>...</td>\n",
       "      <td>...</td>\n",
       "      <td>...</td>\n",
       "      <td>...</td>\n",
       "    </tr>\n",
       "    <tr>\n",
       "      <th>588096</th>\n",
       "      <td>1278437</td>\n",
       "      <td>ad</td>\n",
       "      <td>False</td>\n",
       "      <td>1</td>\n",
       "      <td>Tuesday</td>\n",
       "      <td>23</td>\n",
       "    </tr>\n",
       "    <tr>\n",
       "      <th>588097</th>\n",
       "      <td>1327975</td>\n",
       "      <td>ad</td>\n",
       "      <td>False</td>\n",
       "      <td>1</td>\n",
       "      <td>Tuesday</td>\n",
       "      <td>23</td>\n",
       "    </tr>\n",
       "    <tr>\n",
       "      <th>588098</th>\n",
       "      <td>1038442</td>\n",
       "      <td>ad</td>\n",
       "      <td>False</td>\n",
       "      <td>3</td>\n",
       "      <td>Tuesday</td>\n",
       "      <td>23</td>\n",
       "    </tr>\n",
       "    <tr>\n",
       "      <th>588099</th>\n",
       "      <td>1496395</td>\n",
       "      <td>ad</td>\n",
       "      <td>False</td>\n",
       "      <td>1</td>\n",
       "      <td>Tuesday</td>\n",
       "      <td>23</td>\n",
       "    </tr>\n",
       "    <tr>\n",
       "      <th>588100</th>\n",
       "      <td>1237779</td>\n",
       "      <td>ad</td>\n",
       "      <td>False</td>\n",
       "      <td>1</td>\n",
       "      <td>Tuesday</td>\n",
       "      <td>23</td>\n",
       "    </tr>\n",
       "  </tbody>\n",
       "</table>\n",
       "<p>588101 rows × 6 columns</p>\n",
       "</div>"
      ],
      "text/plain": [
       "        user id test group  converted  total ads most ads day  most ads hour\n",
       "0       1069124         ad      False        130       Monday             20\n",
       "1       1119715         ad      False         93      Tuesday             22\n",
       "2       1144181         ad      False         21      Tuesday             18\n",
       "3       1435133         ad      False        355      Tuesday             10\n",
       "4       1015700         ad      False        276       Friday             14\n",
       "...         ...        ...        ...        ...          ...            ...\n",
       "588096  1278437         ad      False          1      Tuesday             23\n",
       "588097  1327975         ad      False          1      Tuesday             23\n",
       "588098  1038442         ad      False          3      Tuesday             23\n",
       "588099  1496395         ad      False          1      Tuesday             23\n",
       "588100  1237779         ad      False          1      Tuesday             23\n",
       "\n",
       "[588101 rows x 6 columns]"
      ]
     },
     "execution_count": 34,
     "metadata": {},
     "output_type": "execute_result"
    }
   ],
   "source": [
    "pd_ab_testing.drop('Unnamed: 0',axis=1)"
   ]
  },
  {
   "cell_type": "code",
   "execution_count": 35,
   "metadata": {},
   "outputs": [
    {
     "data": {
      "text/html": [
       "<div>\n",
       "<style scoped>\n",
       "    .dataframe tbody tr th:only-of-type {\n",
       "        vertical-align: middle;\n",
       "    }\n",
       "\n",
       "    .dataframe tbody tr th {\n",
       "        vertical-align: top;\n",
       "    }\n",
       "\n",
       "    .dataframe thead th {\n",
       "        text-align: right;\n",
       "    }\n",
       "</style>\n",
       "<table border=\"1\" class=\"dataframe\">\n",
       "  <thead>\n",
       "    <tr style=\"text-align: right;\">\n",
       "      <th></th>\n",
       "      <th>Unnamed: 0</th>\n",
       "      <th>user id</th>\n",
       "      <th>total ads</th>\n",
       "      <th>most ads hour</th>\n",
       "    </tr>\n",
       "  </thead>\n",
       "  <tbody>\n",
       "    <tr>\n",
       "      <th>count</th>\n",
       "      <td>588101.00</td>\n",
       "      <td>588101.000</td>\n",
       "      <td>588101.000</td>\n",
       "      <td>588101.000</td>\n",
       "    </tr>\n",
       "    <tr>\n",
       "      <th>mean</th>\n",
       "      <td>294050.00</td>\n",
       "      <td>1310692.216</td>\n",
       "      <td>24.821</td>\n",
       "      <td>14.469</td>\n",
       "    </tr>\n",
       "    <tr>\n",
       "      <th>std</th>\n",
       "      <td>169770.28</td>\n",
       "      <td>202225.983</td>\n",
       "      <td>43.715</td>\n",
       "      <td>4.835</td>\n",
       "    </tr>\n",
       "    <tr>\n",
       "      <th>min</th>\n",
       "      <td>0.00</td>\n",
       "      <td>900000.000</td>\n",
       "      <td>1.000</td>\n",
       "      <td>0.000</td>\n",
       "    </tr>\n",
       "    <tr>\n",
       "      <th>25%</th>\n",
       "      <td>147025.00</td>\n",
       "      <td>1143190.000</td>\n",
       "      <td>4.000</td>\n",
       "      <td>11.000</td>\n",
       "    </tr>\n",
       "    <tr>\n",
       "      <th>50%</th>\n",
       "      <td>294050.00</td>\n",
       "      <td>1313725.000</td>\n",
       "      <td>13.000</td>\n",
       "      <td>14.000</td>\n",
       "    </tr>\n",
       "    <tr>\n",
       "      <th>75%</th>\n",
       "      <td>441075.00</td>\n",
       "      <td>1484088.000</td>\n",
       "      <td>27.000</td>\n",
       "      <td>18.000</td>\n",
       "    </tr>\n",
       "    <tr>\n",
       "      <th>max</th>\n",
       "      <td>588100.00</td>\n",
       "      <td>1654483.000</td>\n",
       "      <td>2065.000</td>\n",
       "      <td>23.000</td>\n",
       "    </tr>\n",
       "  </tbody>\n",
       "</table>\n",
       "</div>"
      ],
      "text/plain": [
       "       Unnamed: 0      user id   total ads  most ads hour\n",
       "count   588101.00   588101.000  588101.000     588101.000\n",
       "mean    294050.00  1310692.216      24.821         14.469\n",
       "std     169770.28   202225.983      43.715          4.835\n",
       "min          0.00   900000.000       1.000          0.000\n",
       "25%     147025.00  1143190.000       4.000         11.000\n",
       "50%     294050.00  1313725.000      13.000         14.000\n",
       "75%     441075.00  1484088.000      27.000         18.000\n",
       "max     588100.00  1654483.000    2065.000         23.000"
      ]
     },
     "execution_count": 35,
     "metadata": {},
     "output_type": "execute_result"
    }
   ],
   "source": [
    "pd_ab_testing.describe().round(3)"
   ]
  },
  {
   "cell_type": "code",
   "execution_count": 36,
   "metadata": {},
   "outputs": [
    {
     "name": "stderr",
     "output_type": "stream",
     "text": [
      "C:\\Users\\DELL2025\\AppData\\Local\\Temp\\ipykernel_21440\\651008023.py:1: FutureWarning: Downcasting behavior in `replace` is deprecated and will be removed in a future version. To retain the old behavior, explicitly call `result.infer_objects(copy=False)`. To opt-in to the future behavior, set `pd.set_option('future.no_silent_downcasting', True)`\n",
      "  pd_ab_testing['converted'] = pd_ab_testing['converted'].replace({True: 1, False: 0})\n"
     ]
    },
    {
     "data": {
      "text/html": [
       "<div>\n",
       "<style scoped>\n",
       "    .dataframe tbody tr th:only-of-type {\n",
       "        vertical-align: middle;\n",
       "    }\n",
       "\n",
       "    .dataframe tbody tr th {\n",
       "        vertical-align: top;\n",
       "    }\n",
       "\n",
       "    .dataframe thead th {\n",
       "        text-align: right;\n",
       "    }\n",
       "</style>\n",
       "<table border=\"1\" class=\"dataframe\">\n",
       "  <thead>\n",
       "    <tr style=\"text-align: right;\">\n",
       "      <th></th>\n",
       "      <th>Unnamed: 0</th>\n",
       "      <th>user id</th>\n",
       "      <th>test group</th>\n",
       "      <th>converted</th>\n",
       "      <th>total ads</th>\n",
       "      <th>most ads day</th>\n",
       "      <th>most ads hour</th>\n",
       "    </tr>\n",
       "  </thead>\n",
       "  <tbody>\n",
       "    <tr>\n",
       "      <th>0</th>\n",
       "      <td>0</td>\n",
       "      <td>1069124</td>\n",
       "      <td>ad</td>\n",
       "      <td>0</td>\n",
       "      <td>130</td>\n",
       "      <td>Monday</td>\n",
       "      <td>20</td>\n",
       "    </tr>\n",
       "    <tr>\n",
       "      <th>1</th>\n",
       "      <td>1</td>\n",
       "      <td>1119715</td>\n",
       "      <td>ad</td>\n",
       "      <td>0</td>\n",
       "      <td>93</td>\n",
       "      <td>Tuesday</td>\n",
       "      <td>22</td>\n",
       "    </tr>\n",
       "    <tr>\n",
       "      <th>2</th>\n",
       "      <td>2</td>\n",
       "      <td>1144181</td>\n",
       "      <td>ad</td>\n",
       "      <td>0</td>\n",
       "      <td>21</td>\n",
       "      <td>Tuesday</td>\n",
       "      <td>18</td>\n",
       "    </tr>\n",
       "    <tr>\n",
       "      <th>3</th>\n",
       "      <td>3</td>\n",
       "      <td>1435133</td>\n",
       "      <td>ad</td>\n",
       "      <td>0</td>\n",
       "      <td>355</td>\n",
       "      <td>Tuesday</td>\n",
       "      <td>10</td>\n",
       "    </tr>\n",
       "    <tr>\n",
       "      <th>4</th>\n",
       "      <td>4</td>\n",
       "      <td>1015700</td>\n",
       "      <td>ad</td>\n",
       "      <td>0</td>\n",
       "      <td>276</td>\n",
       "      <td>Friday</td>\n",
       "      <td>14</td>\n",
       "    </tr>\n",
       "    <tr>\n",
       "      <th>...</th>\n",
       "      <td>...</td>\n",
       "      <td>...</td>\n",
       "      <td>...</td>\n",
       "      <td>...</td>\n",
       "      <td>...</td>\n",
       "      <td>...</td>\n",
       "      <td>...</td>\n",
       "    </tr>\n",
       "    <tr>\n",
       "      <th>588096</th>\n",
       "      <td>588096</td>\n",
       "      <td>1278437</td>\n",
       "      <td>ad</td>\n",
       "      <td>0</td>\n",
       "      <td>1</td>\n",
       "      <td>Tuesday</td>\n",
       "      <td>23</td>\n",
       "    </tr>\n",
       "    <tr>\n",
       "      <th>588097</th>\n",
       "      <td>588097</td>\n",
       "      <td>1327975</td>\n",
       "      <td>ad</td>\n",
       "      <td>0</td>\n",
       "      <td>1</td>\n",
       "      <td>Tuesday</td>\n",
       "      <td>23</td>\n",
       "    </tr>\n",
       "    <tr>\n",
       "      <th>588098</th>\n",
       "      <td>588098</td>\n",
       "      <td>1038442</td>\n",
       "      <td>ad</td>\n",
       "      <td>0</td>\n",
       "      <td>3</td>\n",
       "      <td>Tuesday</td>\n",
       "      <td>23</td>\n",
       "    </tr>\n",
       "    <tr>\n",
       "      <th>588099</th>\n",
       "      <td>588099</td>\n",
       "      <td>1496395</td>\n",
       "      <td>ad</td>\n",
       "      <td>0</td>\n",
       "      <td>1</td>\n",
       "      <td>Tuesday</td>\n",
       "      <td>23</td>\n",
       "    </tr>\n",
       "    <tr>\n",
       "      <th>588100</th>\n",
       "      <td>588100</td>\n",
       "      <td>1237779</td>\n",
       "      <td>ad</td>\n",
       "      <td>0</td>\n",
       "      <td>1</td>\n",
       "      <td>Tuesday</td>\n",
       "      <td>23</td>\n",
       "    </tr>\n",
       "  </tbody>\n",
       "</table>\n",
       "<p>588101 rows × 7 columns</p>\n",
       "</div>"
      ],
      "text/plain": [
       "        Unnamed: 0  user id test group  converted  total ads most ads day  \\\n",
       "0                0  1069124         ad          0        130       Monday   \n",
       "1                1  1119715         ad          0         93      Tuesday   \n",
       "2                2  1144181         ad          0         21      Tuesday   \n",
       "3                3  1435133         ad          0        355      Tuesday   \n",
       "4                4  1015700         ad          0        276       Friday   \n",
       "...            ...      ...        ...        ...        ...          ...   \n",
       "588096      588096  1278437         ad          0          1      Tuesday   \n",
       "588097      588097  1327975         ad          0          1      Tuesday   \n",
       "588098      588098  1038442         ad          0          3      Tuesday   \n",
       "588099      588099  1496395         ad          0          1      Tuesday   \n",
       "588100      588100  1237779         ad          0          1      Tuesday   \n",
       "\n",
       "        most ads hour  \n",
       "0                  20  \n",
       "1                  22  \n",
       "2                  18  \n",
       "3                  10  \n",
       "4                  14  \n",
       "...               ...  \n",
       "588096             23  \n",
       "588097             23  \n",
       "588098             23  \n",
       "588099             23  \n",
       "588100             23  \n",
       "\n",
       "[588101 rows x 7 columns]"
      ]
     },
     "execution_count": 36,
     "metadata": {},
     "output_type": "execute_result"
    }
   ],
   "source": [
    "pd_ab_testing['converted'] = pd_ab_testing['converted'].replace({True: 1, False: 0})\n",
    "pd_ab_testing"
   ]
  },
  {
   "cell_type": "markdown",
   "metadata": {},
   "source": [
    "calculate total number of conversions per group"
   ]
  },
  {
   "cell_type": "code",
   "execution_count": 37,
   "metadata": {},
   "outputs": [
    {
     "name": "stdout",
     "output_type": "stream",
     "text": [
      "number of Total convertions   14843\n",
      "number of Total non convertion  573258\n"
     ]
    }
   ],
   "source": [
    "pd_ab_testing['converted'].value_counts()\n",
    "conv=pd_ab_testing[pd_ab_testing['converted']== 1].shape[0]\n",
    "Non_conv=pd_ab_testing[pd_ab_testing['converted']== 0].shape[0]\n",
    "print(\"number of Total convertions  \", conv)\n",
    "print(\"number of Total non convertion \", Non_conv)"
   ]
  },
  {
   "cell_type": "code",
   "execution_count": 38,
   "metadata": {},
   "outputs": [
    {
     "name": "stdout",
     "output_type": "stream",
     "text": [
      "Number of users in the controlled A group: 23524\n",
      "Number of users in the experimental B group: 564577\n"
     ]
    }
   ],
   "source": [
    "x_exp = pd_ab_testing[pd_ab_testing['test group'] == \"ad\"].shape[0]\n",
    "x_con = pd_ab_testing[pd_ab_testing['test group'] == \"psa\"].shape[0]\n",
    "\n",
    "print(\"Number of users in the controlled A group:\", x_con)\n",
    "print(\"Number of users in the experimental B group:\", x_exp)"
   ]
  },
  {
   "cell_type": "code",
   "execution_count": 39,
   "metadata": {},
   "outputs": [
    {
     "name": "stdout",
     "output_type": "stream",
     "text": [
      "number of convertions on controled A group  420\n",
      "number of convertions on expirmental B group  14423\n"
     ]
    }
   ],
   "source": [
    "exp = pd_ab_testing[pd_ab_testing[\"test group\"] == \"ad\"]\n",
    "con = pd_ab_testing[pd_ab_testing[\"test group\"] == \"psa\"]\n",
    "n_exp = exp[exp[\"converted\"] == 1].shape[0]\n",
    "n_con = con[con[\"converted\"] == 1].shape[0]\n",
    "print(\"number of convertions on controled A group \", n_con)\n",
    "print(\"number of convertions on expirmental B group \", n_exp)"
   ]
  },
  {
   "cell_type": "code",
   "execution_count": 40,
   "metadata": {},
   "outputs": [
    {
     "name": "stdout",
     "output_type": "stream",
     "text": [
      "probability of conversion on controled A group  1.785410644448223\n",
      "probability of conversion on experimental B group 2.5546559636683748\n",
      "probability of conversion on total groups 39.62143771474769\n",
      "Conversion Rate Uplift: B vs. A: 0.77%\n"
     ]
    }
   ],
   "source": [
    "p_con_hat = n_con / x_con\n",
    "p_exp_hat = n_exp / x_exp\n",
    "p_pooled_hat = (x_con + x_exp) / (n_con + n_exp)\n",
    "conversion_rate_uplift = (p_exp_hat - p_con_hat) * 100\n",
    "\n",
    "print(\"probability of conversion on controled A group \" ,p_con_hat *100 )\n",
    "print(\"probability of conversion on experimental B group\" ,p_exp_hat *100)\n",
    "print(\"probability of conversion on total groups\" ,p_pooled_hat)\n",
    "print(f\"Conversion Rate Uplift: B vs. A: {conversion_rate_uplift:.2f}%\")"
   ]
  },
  {
   "cell_type": "code",
   "execution_count": 57,
   "metadata": {},
   "outputs": [
    {
     "name": "stdout",
     "output_type": "stream",
     "text": [
      "the Total Sum of ads in the Expermintal B Group is  14014701\n",
      "the Total Sum of ads in the Controled A Group is  582481\n"
     ]
    }
   ],
   "source": [
    "ad_sum=pd_ab_testing.groupby('test group')['total ads'].sum()['ad']\n",
    "print(\"the Total Sum of ads in the Expermintal B Group is \" , ad_sum)\n",
    "psa_sum=pd_ab_testing.groupby('test group')['total ads'].sum()['psa']\n",
    "print(\"the Total Sum of ads in the Controled A Group is \" , psa_sum)"
   ]
  },
  {
   "cell_type": "code",
   "execution_count": 58,
   "metadata": {},
   "outputs": [
    {
     "name": "stdout",
     "output_type": "stream",
     "text": [
      "the total sum of ads played in all Groups is  14597182\n",
      "the Percent of Controled A Group ad played is  4.0 %\n",
      "the Percent of ad Experimental B Group ad Played is  96.0 %\n"
     ]
    }
   ],
   "source": [
    "total_sum = ad_sum + psa_sum\n",
    "psa_percent = psa_sum / total_sum\n",
    "ad_percent = ad_sum / total_sum\n",
    "print(\"the total sum of ads played in all Groups is \" , total_sum)\n",
    "print(\"the Percent of Controled A Group ad played is \" , round(psa_percent,3) * 100 ,\"%\")\n",
    "print(\"the Percent of ad Experimental B Group ad Played is \" , round(ad_percent ,3 )* 100 ,\"%\")"
   ]
  },
  {
   "cell_type": "code",
   "execution_count": 43,
   "metadata": {},
   "outputs": [
    {
     "data": {
      "text/plain": [
       "most ads hour  test group\n",
       "13             ad            45485\n",
       "12             ad            45238\n",
       "11             ad            44149\n",
       "14             ad            43779\n",
       "15             ad            42855\n",
       "10             ad            37454\n",
       "16             ad            35963\n",
       "17             ad            33605\n",
       "18             ad            31052\n",
       "9              ad            29802\n",
       "19             ad            29169\n",
       "21             ad            28895\n",
       "20             ad            27846\n",
       "22             ad            25515\n",
       "23             ad            19547\n",
       "8              ad            16968\n",
       "7              ad             6168\n",
       "0              ad             5309\n",
       "2              ad             5152\n",
       "1              ad             4615\n",
       "3              ad             2590\n",
       "6              ad             1985\n",
       "5              ad              742\n",
       "4              ad              694\n",
       "Name: count, dtype: int64"
      ]
     },
     "execution_count": 43,
     "metadata": {},
     "output_type": "execute_result"
    }
   ],
   "source": [
    "pd_ab_testing[pd_ab_testing['test group'] == 'ad'].groupby('most ads hour')['test group'].value_counts().sort_values(ascending=False)"
   ]
  },
  {
   "cell_type": "code",
   "execution_count": 76,
   "metadata": {},
   "outputs": [
    {
     "data": {
      "image/png": "[encoded data removed]",
      "text/plain": [
       "<Figure size 1400x800 with 1 Axes>"
      ]
     },
     "metadata": {},
     "output_type": "display_data"
    }
   ],
   "source": [
    "plt.figure(figsize=(14, 8))\n",
    "sns.countplot(data=pd_ab_testing, x='most ads hour', hue='test group', order=pd_ab_testing['most ads hour'].value_counts().index)\n",
    "plt.title('Counts of Most Ads Hour by Test Group')\n",
    "plt.xlabel('Most Ads Hour')\n",
    "plt.ylabel('Count')\n",
    "plt.legend(title='Test Group')\n",
    "plt.show()"
   ]
  },
  {
   "cell_type": "code",
   "execution_count": 44,
   "metadata": {},
   "outputs": [
    {
     "data": {
      "text/plain": [
       "most ads day  test group\n",
       "Friday        ad            88805\n",
       "Monday        ad            83571\n",
       "Sunday        ad            82332\n",
       "Thursday      ad            79077\n",
       "Saturday      ad            78802\n",
       "Wednesday     ad            77418\n",
       "Tuesday       ad            74572\n",
       "Name: count, dtype: int64"
      ]
     },
     "execution_count": 44,
     "metadata": {},
     "output_type": "execute_result"
    }
   ],
   "source": [
    "pd_ab_testing[pd_ab_testing['test group'] == 'ad'].groupby('most ads day')['test group'].value_counts().sort_values(ascending=False)"
   ]
  },
  {
   "cell_type": "code",
   "execution_count": 45,
   "metadata": {},
   "outputs": [
    {
     "data": {
      "text/plain": [
       "most ads day  most ads hour  test group\n",
       "Friday        13             ad            7166\n",
       "Sunday        14             ad            6983\n",
       "Friday        12             ad            6949\n",
       "Wednesday     12             ad            6938\n",
       "Friday        11             ad            6927\n",
       "                                           ... \n",
       "Thursday      5              ad              91\n",
       "Monday        4              ad              88\n",
       "Saturday      5              ad              88\n",
       "              4              ad              79\n",
       "Tuesday       5              ad              76\n",
       "Name: count, Length: 168, dtype: int64"
      ]
     },
     "execution_count": 45,
     "metadata": {},
     "output_type": "execute_result"
    }
   ],
   "source": [
    "pd_ab_testing[pd_ab_testing['test group'] == 'ad'].groupby(['most ads day','most ads hour'])['test group'].value_counts().sort_values(ascending=False)"
   ]
  },
  {
   "cell_type": "code",
   "execution_count": 46,
   "metadata": {},
   "outputs": [
    {
     "data": {
      "text/plain": [
       "most ads hour  test group\n",
       "13             psa           2170\n",
       "11             psa           2061\n",
       "12             psa           2060\n",
       "14             psa           1869\n",
       "15             psa           1828\n",
       "16             psa           1604\n",
       "10             psa           1485\n",
       "17             psa           1383\n",
       "18             psa           1271\n",
       "9              psa           1202\n",
       "19             psa           1183\n",
       "21             psa           1081\n",
       "20             psa           1077\n",
       "22             psa            917\n",
       "8              psa            659\n",
       "23             psa            619\n",
       "7              psa            237\n",
       "0              psa            227\n",
       "1              psa            187\n",
       "2              psa            181\n",
       "3              psa             89\n",
       "6              psa             83\n",
       "4              psa             28\n",
       "5              psa             23\n",
       "Name: count, dtype: int64"
      ]
     },
     "execution_count": 46,
     "metadata": {},
     "output_type": "execute_result"
    }
   ],
   "source": [
    "pd_ab_testing[pd_ab_testing['test group'] == 'psa'].groupby('most ads hour')['test group'].value_counts().sort_values(ascending=False)"
   ]
  },
  {
   "cell_type": "code",
   "execution_count": 47,
   "metadata": {},
   "outputs": [
    {
     "data": {
      "text/plain": [
       "most ads day  test group\n",
       "Thursday      psa           3905\n",
       "Friday        psa           3803\n",
       "Monday        psa           3502\n",
       "Wednesday     psa           3490\n",
       "Sunday        psa           3059\n",
       "Tuesday       psa           2907\n",
       "Saturday      psa           2858\n",
       "Name: count, dtype: int64"
      ]
     },
     "execution_count": 47,
     "metadata": {},
     "output_type": "execute_result"
    }
   ],
   "source": [
    "pd_ab_testing[pd_ab_testing['test group'] == 'psa'].groupby('most ads day')['test group'].value_counts().sort_values(ascending=False)"
   ]
  },
  {
   "cell_type": "code",
   "execution_count": 48,
   "metadata": {},
   "outputs": [
    {
     "data": {
      "text/plain": [
       "most ads day  most ads hour  test group\n",
       "Friday        12             psa           370\n",
       "Thursday      13             psa           368\n",
       "Wednesday     13             psa           368\n",
       "              12             psa           367\n",
       "Tuesday       11             psa           361\n",
       "                                          ... \n",
       "Wednesday     5              psa             3\n",
       "Monday        5              psa             2\n",
       "Sunday        4              psa             2\n",
       "Wednesday     4              psa             2\n",
       "Sunday        5              psa             1\n",
       "Name: count, Length: 167, dtype: int64"
      ]
     },
     "execution_count": 48,
     "metadata": {},
     "output_type": "execute_result"
    }
   ],
   "source": [
    "pd_ab_testing[pd_ab_testing['test group'] == 'psa'].groupby(['most ads day','most ads hour'])['test group'].value_counts().sort_values(ascending=False)"
   ]
  },
  {
   "cell_type": "code",
   "execution_count": 75,
   "metadata": {},
   "outputs": [
    {
     "data": {
      "image/png": "[encoded data removed]",
      "text/plain": [
       "<Figure size 1400x800 with 1 Axes>"
      ]
     },
     "metadata": {},
     "output_type": "display_data"
    }
   ],
   "source": [
    "plt.figure(figsize=(14, 8))\n",
    "sns.countplot(data=pd_ab_testing, x='most ads day', hue='test group', order=pd_ab_testing['most ads day'].value_counts().index)\n",
    "plt.title('Counts of Most Ads Day by Test Group')\n",
    "plt.xlabel('Most Ads Day')\n",
    "plt.ylabel('Count')\n",
    "plt.legend(title='Test Group')\n",
    "plt.show()"
   ]
  },
  {
   "cell_type": "code",
   "execution_count": 49,
   "metadata": {},
   "outputs": [
    {
     "data": {
      "text/plain": [
       "<Axes: >"
      ]
     },
     "execution_count": 49,
     "metadata": {},
     "output_type": "execute_result"
    },
    {
     "data": {
      "image/png": "[encoded data removed]",
      "text/plain": [
       "<Figure size 640x480 with 2 Axes>"
      ]
     },
     "metadata": {},
     "output_type": "display_data"
    }
   ],
   "source": [
    "# Select only numeric columns\n",
    "numeric_columns = pd_ab_testing.select_dtypes(include='number')\n",
    "\n",
    "# Calculate the correlation matrix and plot the heatmap\n",
    "sns.heatmap(numeric_columns.corr(), annot=True, cmap='coolwarm')\n"
   ]
  },
  {
   "cell_type": "code",
   "execution_count": 50,
   "metadata": {},
   "outputs": [
    {
     "data": {
      "image/png": "[encoded data removed]",
      "text/plain": [
       "<Figure size 1000x600 with 1 Axes>"
      ]
     },
     "metadata": {},
     "output_type": "display_data"
    }
   ],
   "source": [
    "#custom palette to yellow and black\n",
    "paleete = {True:'Black',False:'Yellow'}\n",
    "plt.figure(figsize=(10,6))\n",
    "ax = sns.countplot(x='test group', hue='converted', data=pd_ab_testing, palette=paleete)\n",
    "for p in ax.patches:\n",
    "    height = p.get_height()\n",
    "    ax.annotate(f'{int(height)}', (p.get_x() + p.get_width() / 2., height), ha='center', va='center', xytext=(0, 5), textcoords='offset points')\n",
    "plt.title('converted distribution in Expermintal and controled groups')\n",
    "plt.xlabel('group')\n",
    "plt.ylabel('count')\n",
    "plt.legend(title='conversion', labels=['False','True']);"
   ]
  },
  {
   "cell_type": "code",
   "execution_count": 51,
   "metadata": {},
   "outputs": [
    {
     "name": "stdout",
     "output_type": "stream",
     "text": [
      "Alpha : Significance level is (probability of Type 1 error false positive)  0.05\n",
      "delta : minimum dectectable effect is  0.01\n"
     ]
    }
   ],
   "source": [
    "alpha =  0.05\n",
    "print(\"Alpha : Significance level is (probability of Type 1 error false positive) \",alpha)\n",
    "\n",
    "\n",
    "delta = 0.01\n",
    "print(\"delta : minimum dectectable effect is \",delta)\n"
   ]
  },
  {
   "cell_type": "markdown",
   "metadata": {},
   "source": [
    "calculated pooled variance "
   ]
  },
  {
   "cell_type": "code",
   "execution_count": 52,
   "metadata": {},
   "outputs": [
    {
     "name": "stdout",
     "output_type": "stream",
     "text": [
      "pooled variance is  4.3476791715742765e-05\n"
     ]
    }
   ],
   "source": [
    "pooled_variance = (p_con_hat * (1 - p_con_hat) / n_con) + (p_exp_hat * (1 - p_exp_hat) / n_exp)\n",
    "print(\"pooled variance is \" ,pooled_variance)"
   ]
  },
  {
   "cell_type": "markdown",
   "metadata": {},
   "source": [
    "calculate statistic error "
   ]
  },
  {
   "cell_type": "code",
   "execution_count": 53,
   "metadata": {},
   "outputs": [
    {
     "name": "stdout",
     "output_type": "stream",
     "text": [
      "Statistical Error: 0.66% (margin of error)\n",
      "test statistics for 2sample z_test is -1.1666379991425004\n",
      "z critical value of standard normal distribution is 1.959963984540054\n",
      "we can't reject null hyposesis as -1.1666379991425004 is less than 1.959963984540054\n"
     ]
    }
   ],
   "source": [
    "SE= np.sqrt(pooled_variance)\n",
    "statistical_error = SE * 100\n",
    "print(f\"Statistical Error: {statistical_error:.2f}% (margin of error)\")\n",
    "\n",
    "\n",
    "test_statstics= (p_con_hat - p_exp_hat) / SE\n",
    "print(\"test statistics for 2sample z_test is\",test_statstics)\n",
    "\n",
    "\n",
    "z_critical = norm.ppf(1-alpha/2)\n",
    "print(\"z critical value of standard normal distribution is\",z_critical)\n",
    "print(\"we can't reject null hyposesis as\" ,(test_statstics), \"is less than\",(z_critical))\n"
   ]
  },
  {
   "cell_type": "markdown",
   "metadata": {},
   "source": [
    "calculate p_values fom z-test\n",
    "\n",
    "low p_value (p<=0.05 at significance value) indicate strong evidance against the null hyposesis , regect null hyposesis\n",
    "\n",
    "high p_value (p>0.05 at significance value) indicate weak evidance against the null hyposesis , fail to regect null hyposesis"
   ]
  },
  {
   "cell_type": "code",
   "execution_count": 54,
   "metadata": {},
   "outputs": [
    {
     "name": "stdout",
     "output_type": "stream",
     "text": [
      "p_value of the 2saple z-test 0.243\n",
      "there is no statitical esignificance  , indicate that the observed differances between groups are likly to occurred by chance ,Fail to reject the null hypothesis \n"
     ]
    }
   ],
   "source": [
    "p_value = 2*norm.sf(abs(test_statstics))\n",
    "\n",
    "\n",
    "def is_statistical_significance(p_value,alpha):\n",
    "    print(f\"p_value of the 2saple z-test {round(p_value,3)}\")\n",
    "\n",
    "    if p_value <= alpha :\n",
    "        print(\"there is statitical esignificance  , indicate that the observed differances between groups are unlikly to occured by chance  , Reject the null hypothesis\")\n",
    "\n",
    "    else:\n",
    "        print(\"there is no statitical esignificance  , indicate that the observed differances between groups are likly to occurred by chance ,Fail to reject the null hypothesis \")\n",
    "\n",
    "is_statistical_significance(p_value,alpha)"
   ]
  },
  {
   "cell_type": "markdown",
   "metadata": {},
   "source": [
    "calculate confidance interval of the test , the narrower the more quailty results \n",
    "\n",
    "A positive CI (e.g.,[+0.02,+0.05]) suggests the experimental group performs better.\n",
    "\n",
    "A CI crossing 0 (e.g.,[−0.01,+0.03]) suggests no statistically significant difference."
   ]
  },
  {
   "cell_type": "code",
   "execution_count": 55,
   "metadata": {},
   "outputs": [
    {
     "name": "stdout",
     "output_type": "stream",
     "text": [
      "the confidance interval of the 2 sample z-test is  [np.float64(-0.005), np.float64(0.021)]\n",
      "CI crossing 0 [np.float64(-0.005), np.float64(0.021)] suggests no statistically significant difference \n"
     ]
    }
   ],
   "source": [
    "CI = [ round((p_exp_hat - p_con_hat) - SE * z_critical , 3),\n",
    "       round((p_exp_hat - p_con_hat) + SE * z_critical , 3)\n",
    "]\n",
    "\n",
    "print(\"the confidance interval of the 2 sample z-test is \" , CI)\n",
    "print(\"CI crossing 0\" ,(CI) ,\"suggests no statistically significant difference \")"
   ]
  },
  {
   "cell_type": "code",
   "execution_count": 56,
   "metadata": {},
   "outputs": [
    {
     "data": {
      "image/png": "[encoded data removed]",
      "text/plain": [
       "<Figure size 640x480 with 1 Axes>"
      ]
     },
     "metadata": {},
     "output_type": "display_data"
    }
   ],
   "source": [
    "Mu = 0\n",
    "sigma = 1\n",
    "x = np.linspace(Mu - 3*sigma , Mu + 3*sigma , 100)\n",
    "y = norm.pdf(x,Mu,sigma)\n",
    "\n",
    "plt.plot(x,y,label='Standard normal distribution')\n",
    "plt.fill_between(x,y,where=(x>z_critical)|(x<-z_critical),color = 'red', alpha =0.5 , label = 'rejection region')\n",
    "plt.axvline(test_statstics,color ='green' , linestyle = 'dashed' , linewidth = 2 , label =f'test statistic ={test_statstics:.2f} ')\n",
    "plt.axvline(z_critical,color ='blue' , linestyle = 'dashed' , linewidth = 1 , label =f'z_crtical ={z_critical:.2f} ')\n",
    "plt.axvline(-z_critical,color ='blue' , linestyle = 'dashed' , linewidth = 1 )\n",
    "\n",
    "plt.xlabel('z_value')\n",
    "plt.ylabel('probability density')\n",
    "plt.title('gaussian distribution with rejection region')\n",
    "plt.legend()\n",
    "plt.show()"
   ]
  }
 ],
 "metadata": {
  "kernelspec": {
   "display_name": "Python 3",
   "language": "python",
   "name": "python3"
  },
  "language_info": {
   "codemirror_mode": {
    "name": "ipython",
    "version": 3
   },
   "file_extension": ".py",
   "mimetype": "text/x-python",
   "name": "python",
   "nbconvert_exporter": "python",
   "pygments_lexer": "ipython3",
   "version": "3.11.9"
  }
 },
 "nbformat": 4,
 "nbformat_minor": 2
}
